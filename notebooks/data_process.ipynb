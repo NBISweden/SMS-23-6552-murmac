{
 "cells": [
  {
   "cell_type": "markdown",
   "metadata": {},
   "source": [
    "# scRNA-Seq analysis to trace macrophage fate"
   ]
  },
  {
   "cell_type": "markdown",
   "metadata": {},
   "source": [
    "## Import and settings"
   ]
  },
  {
   "cell_type": "code",
   "execution_count": 1,
   "metadata": {},
   "outputs": [],
   "source": [
    "import pandas as pd\n",
    "import numpy as np\n",
    "import matplotlib.pyplot as plt\n",
    "import seaborn as sns\n",
    "import scanpy as sc\n",
    "import pyranges as pr"
   ]
  },
  {
   "cell_type": "code",
   "execution_count": 3,
   "metadata": {},
   "outputs": [
    {
     "name": "stdout",
     "output_type": "stream",
     "text": [
      "/Users/erik.fasterius/projects/6552-murmac/6552-env/bin/python\n",
      "3.6.12 | packaged by conda-forge | (default, Dec  9 2020, 00:24:39) \n",
      "[GCC Clang 11.0.0]\n",
      "sys.version_info(major=3, minor=6, micro=12, releaselevel='final', serial=0)\n"
     ]
    },
    {
     "ename": "AttributeError",
     "evalue": "module 'scanpy.logging' has no attribute 'print_header'",
     "output_type": "error",
     "traceback": [
      "\u001b[0;31m---------------------------------------------------------------------------\u001b[0m",
      "\u001b[0;31mAttributeError\u001b[0m                            Traceback (most recent call last)",
      "\u001b[0;32m<ipython-input-3-daeea98c3c71>\u001b[0m in \u001b[0;36m<module>\u001b[0;34m\u001b[0m\n\u001b[1;32m      4\u001b[0m \u001b[0mprint\u001b[0m\u001b[0;34m(\u001b[0m\u001b[0msys\u001b[0m\u001b[0;34m.\u001b[0m\u001b[0mversion_info\u001b[0m\u001b[0;34m)\u001b[0m\u001b[0;34m\u001b[0m\u001b[0;34m\u001b[0m\u001b[0m\n\u001b[1;32m      5\u001b[0m \u001b[0msc\u001b[0m\u001b[0;34m.\u001b[0m\u001b[0msettings\u001b[0m\u001b[0;34m.\u001b[0m\u001b[0mverbosity\u001b[0m \u001b[0;34m=\u001b[0m \u001b[0;36m3\u001b[0m  \u001b[0;31m# verbosity: errors (0), warnings (1), info (2), hints (3)\u001b[0m\u001b[0;34m\u001b[0m\u001b[0;34m\u001b[0m\u001b[0m\n\u001b[0;32m----> 6\u001b[0;31m \u001b[0msc\u001b[0m\u001b[0;34m.\u001b[0m\u001b[0mlogging\u001b[0m\u001b[0;34m.\u001b[0m\u001b[0mprint_header\u001b[0m\u001b[0;34m(\u001b[0m\u001b[0;34m)\u001b[0m\u001b[0;34m\u001b[0m\u001b[0;34m\u001b[0m\u001b[0m\n\u001b[0m",
      "\u001b[0;31mAttributeError\u001b[0m: module 'scanpy.logging' has no attribute 'print_header'"
     ]
    }
   ],
   "source": [
    "import sys\n",
    "print(sys.executable)\n",
    "print(sys.version)\n",
    "print(sys.version_info)\n",
    "sc.settings.verbosity = 3  # verbosity: errors (0), warnings (1), info (2), hints (3)\n",
    "sc.logging.print_header()"
   ]
  },
  {
   "cell_type": "code",
   "execution_count": 4,
   "metadata": {},
   "outputs": [],
   "source": [
    "pd.set_option('display.max_columns', None)\n",
    "pd.set_option('display.max_rows', 100)\n",
    "sc.settings.set_figure_params(dpi=80)"
   ]
  },
  {
   "cell_type": "code",
   "execution_count": 5,
   "metadata": {},
   "outputs": [],
   "source": [
    "data_dir = '../data/'\n",
    "work_dir = '../results/'\n",
    "h5ad_dir = work_dir + 'h5ad/'"
   ]
  },
  {
   "cell_type": "code",
   "execution_count": 6,
   "metadata": {},
   "outputs": [],
   "source": [
    "%load_ext rpy2.ipython"
   ]
  },
  {
   "cell_type": "markdown",
   "metadata": {},
   "source": [
    "## Introduction\n",
    "\n",
    "There are in total 4 plates of 384 well, two from 2019 and two from 2020. Well P23 and P24 were recommendated to be negative control for the sample plates. So there are in total 1528 single cells sequenced.\n",
    "\n",
    "The sequencing center originally mapped the reads to their reference and provided counts and rpkm values, but apparently the reference genome do not contain mitochondrial sequence, and mapping rate to MT is apparently one quality control in scRNA-Seq analysis to determine if the cell is dying. (High content of MT RNA may indicated apoptosis)"
   ]
  },
  {
   "cell_type": "markdown",
   "metadata": {},
   "source": [
    "## Sample info\n",
    "\n",
    "* D21 - means 21 days after ischemia\n",
    "* GFP_plus - high pdgfrb expression\n",
    "* tdtomato_plus - permenant, lineage tracing marker. Indicate macrophage, Cx3cr1 expression, but there were some cells in D21 seem to have lost Cx3cr1 expression.\n",
    "* tdtomato_minus - pericytes. But there are 30% macrophages that don't express tdtomato, so there is still possibility that it could be a macrophage.\n",
    "\n",
    "cell_identity | explanation \n",
    "------------- | -----------\n",
    "D21_tdtomato_minus_GFP_plus | Pericytes, but with possibility of being macrophages\n",
    "D21_tdtomato_plus_GFP_plus | Macrophages, that have both tdtomato red and Pdgfrb GFP expression. There were some indication that having both might downregulate Cx3cr1 expression\n",
    "D21_tdtomato_plus_GFP_plusminus | Macrophages, tdtomato red but difficult to say if it has also Pdgfrb expression due to weak expression\n",
    "Healthy_tdtomato_minus_GFP_plus | Pericytes\n",
    "Healthy_tdtomato_plus_GFP_plusminus | Macrophages\n",
    "\n",
    "One thinking is to only look at tdtomato_plus to see if it gives better clustering"
   ]
  },
  {
   "cell_type": "code",
   "execution_count": 7,
   "metadata": {},
   "outputs": [
    {
     "ename": "FileNotFoundError",
     "evalue": "[Errno 2] No such file or directory: '../data/sampleinfo.csv'",
     "output_type": "error",
     "traceback": [
      "\u001b[0;31m---------------------------------------------------------------------------\u001b[0m",
      "\u001b[0;31mFileNotFoundError\u001b[0m                         Traceback (most recent call last)",
      "\u001b[0;32m<ipython-input-7-e8321cd451b2>\u001b[0m in \u001b[0;36m<module>\u001b[0;34m\u001b[0m\n\u001b[1;32m      1\u001b[0m \u001b[0msample_info_file\u001b[0m \u001b[0;34m=\u001b[0m \u001b[0mdata_dir\u001b[0m \u001b[0;34m+\u001b[0m \u001b[0;34m'sampleinfo.csv'\u001b[0m\u001b[0;34m\u001b[0m\u001b[0;34m\u001b[0m\u001b[0m\n\u001b[0;32m----> 2\u001b[0;31m \u001b[0msample_info\u001b[0m \u001b[0;34m=\u001b[0m \u001b[0mpd\u001b[0m\u001b[0;34m.\u001b[0m\u001b[0mread_csv\u001b[0m\u001b[0;34m(\u001b[0m\u001b[0msample_info_file\u001b[0m\u001b[0;34m,\u001b[0m \u001b[0msep\u001b[0m\u001b[0;34m=\u001b[0m\u001b[0;34m','\u001b[0m\u001b[0;34m,\u001b[0m \u001b[0mheader\u001b[0m\u001b[0;34m=\u001b[0m\u001b[0;36m0\u001b[0m\u001b[0;34m,\u001b[0m \u001b[0mindex_col\u001b[0m\u001b[0;34m=\u001b[0m\u001b[0;32mFalse\u001b[0m\u001b[0;34m)\u001b[0m\u001b[0;34m\u001b[0m\u001b[0;34m\u001b[0m\u001b[0m\n\u001b[0m\u001b[1;32m      3\u001b[0m \u001b[0msample_info\u001b[0m\u001b[0;34m.\u001b[0m\u001b[0mhead\u001b[0m\u001b[0;34m(\u001b[0m\u001b[0;34m)\u001b[0m\u001b[0;34m\u001b[0m\u001b[0;34m\u001b[0m\u001b[0m\n",
      "\u001b[0;32m~/projects/6552-murmac/6552-env/lib/python3.6/site-packages/pandas/io/parsers.py\u001b[0m in \u001b[0;36mread_csv\u001b[0;34m(filepath_or_buffer, sep, delimiter, header, names, index_col, usecols, squeeze, prefix, mangle_dupe_cols, dtype, engine, converters, true_values, false_values, skipinitialspace, skiprows, skipfooter, nrows, na_values, keep_default_na, na_filter, verbose, skip_blank_lines, parse_dates, infer_datetime_format, keep_date_col, date_parser, dayfirst, cache_dates, iterator, chunksize, compression, thousands, decimal, lineterminator, quotechar, quoting, doublequote, escapechar, comment, encoding, dialect, error_bad_lines, warn_bad_lines, delim_whitespace, low_memory, memory_map, float_precision)\u001b[0m\n\u001b[1;32m    686\u001b[0m     )\n\u001b[1;32m    687\u001b[0m \u001b[0;34m\u001b[0m\u001b[0m\n\u001b[0;32m--> 688\u001b[0;31m     \u001b[0;32mreturn\u001b[0m \u001b[0m_read\u001b[0m\u001b[0;34m(\u001b[0m\u001b[0mfilepath_or_buffer\u001b[0m\u001b[0;34m,\u001b[0m \u001b[0mkwds\u001b[0m\u001b[0;34m)\u001b[0m\u001b[0;34m\u001b[0m\u001b[0;34m\u001b[0m\u001b[0m\n\u001b[0m\u001b[1;32m    689\u001b[0m \u001b[0;34m\u001b[0m\u001b[0m\n\u001b[1;32m    690\u001b[0m \u001b[0;34m\u001b[0m\u001b[0m\n",
      "\u001b[0;32m~/projects/6552-murmac/6552-env/lib/python3.6/site-packages/pandas/io/parsers.py\u001b[0m in \u001b[0;36m_read\u001b[0;34m(filepath_or_buffer, kwds)\u001b[0m\n\u001b[1;32m    452\u001b[0m \u001b[0;34m\u001b[0m\u001b[0m\n\u001b[1;32m    453\u001b[0m     \u001b[0;31m# Create the parser.\u001b[0m\u001b[0;34m\u001b[0m\u001b[0;34m\u001b[0m\u001b[0;34m\u001b[0m\u001b[0m\n\u001b[0;32m--> 454\u001b[0;31m     \u001b[0mparser\u001b[0m \u001b[0;34m=\u001b[0m \u001b[0mTextFileReader\u001b[0m\u001b[0;34m(\u001b[0m\u001b[0mfp_or_buf\u001b[0m\u001b[0;34m,\u001b[0m \u001b[0;34m**\u001b[0m\u001b[0mkwds\u001b[0m\u001b[0;34m)\u001b[0m\u001b[0;34m\u001b[0m\u001b[0;34m\u001b[0m\u001b[0m\n\u001b[0m\u001b[1;32m    455\u001b[0m \u001b[0;34m\u001b[0m\u001b[0m\n\u001b[1;32m    456\u001b[0m     \u001b[0;32mif\u001b[0m \u001b[0mchunksize\u001b[0m \u001b[0;32mor\u001b[0m \u001b[0miterator\u001b[0m\u001b[0;34m:\u001b[0m\u001b[0;34m\u001b[0m\u001b[0;34m\u001b[0m\u001b[0m\n",
      "\u001b[0;32m~/projects/6552-murmac/6552-env/lib/python3.6/site-packages/pandas/io/parsers.py\u001b[0m in \u001b[0;36m__init__\u001b[0;34m(self, f, engine, **kwds)\u001b[0m\n\u001b[1;32m    946\u001b[0m             \u001b[0mself\u001b[0m\u001b[0;34m.\u001b[0m\u001b[0moptions\u001b[0m\u001b[0;34m[\u001b[0m\u001b[0;34m\"has_index_names\"\u001b[0m\u001b[0;34m]\u001b[0m \u001b[0;34m=\u001b[0m \u001b[0mkwds\u001b[0m\u001b[0;34m[\u001b[0m\u001b[0;34m\"has_index_names\"\u001b[0m\u001b[0;34m]\u001b[0m\u001b[0;34m\u001b[0m\u001b[0;34m\u001b[0m\u001b[0m\n\u001b[1;32m    947\u001b[0m \u001b[0;34m\u001b[0m\u001b[0m\n\u001b[0;32m--> 948\u001b[0;31m         \u001b[0mself\u001b[0m\u001b[0;34m.\u001b[0m\u001b[0m_make_engine\u001b[0m\u001b[0;34m(\u001b[0m\u001b[0mself\u001b[0m\u001b[0;34m.\u001b[0m\u001b[0mengine\u001b[0m\u001b[0;34m)\u001b[0m\u001b[0;34m\u001b[0m\u001b[0;34m\u001b[0m\u001b[0m\n\u001b[0m\u001b[1;32m    949\u001b[0m \u001b[0;34m\u001b[0m\u001b[0m\n\u001b[1;32m    950\u001b[0m     \u001b[0;32mdef\u001b[0m \u001b[0mclose\u001b[0m\u001b[0;34m(\u001b[0m\u001b[0mself\u001b[0m\u001b[0;34m)\u001b[0m\u001b[0;34m:\u001b[0m\u001b[0;34m\u001b[0m\u001b[0;34m\u001b[0m\u001b[0m\n",
      "\u001b[0;32m~/projects/6552-murmac/6552-env/lib/python3.6/site-packages/pandas/io/parsers.py\u001b[0m in \u001b[0;36m_make_engine\u001b[0;34m(self, engine)\u001b[0m\n\u001b[1;32m   1178\u001b[0m     \u001b[0;32mdef\u001b[0m \u001b[0m_make_engine\u001b[0m\u001b[0;34m(\u001b[0m\u001b[0mself\u001b[0m\u001b[0;34m,\u001b[0m \u001b[0mengine\u001b[0m\u001b[0;34m=\u001b[0m\u001b[0;34m\"c\"\u001b[0m\u001b[0;34m)\u001b[0m\u001b[0;34m:\u001b[0m\u001b[0;34m\u001b[0m\u001b[0;34m\u001b[0m\u001b[0m\n\u001b[1;32m   1179\u001b[0m         \u001b[0;32mif\u001b[0m \u001b[0mengine\u001b[0m \u001b[0;34m==\u001b[0m \u001b[0;34m\"c\"\u001b[0m\u001b[0;34m:\u001b[0m\u001b[0;34m\u001b[0m\u001b[0;34m\u001b[0m\u001b[0m\n\u001b[0;32m-> 1180\u001b[0;31m             \u001b[0mself\u001b[0m\u001b[0;34m.\u001b[0m\u001b[0m_engine\u001b[0m \u001b[0;34m=\u001b[0m \u001b[0mCParserWrapper\u001b[0m\u001b[0;34m(\u001b[0m\u001b[0mself\u001b[0m\u001b[0;34m.\u001b[0m\u001b[0mf\u001b[0m\u001b[0;34m,\u001b[0m \u001b[0;34m**\u001b[0m\u001b[0mself\u001b[0m\u001b[0;34m.\u001b[0m\u001b[0moptions\u001b[0m\u001b[0;34m)\u001b[0m\u001b[0;34m\u001b[0m\u001b[0;34m\u001b[0m\u001b[0m\n\u001b[0m\u001b[1;32m   1181\u001b[0m         \u001b[0;32melse\u001b[0m\u001b[0;34m:\u001b[0m\u001b[0;34m\u001b[0m\u001b[0;34m\u001b[0m\u001b[0m\n\u001b[1;32m   1182\u001b[0m             \u001b[0;32mif\u001b[0m \u001b[0mengine\u001b[0m \u001b[0;34m==\u001b[0m \u001b[0;34m\"python\"\u001b[0m\u001b[0;34m:\u001b[0m\u001b[0;34m\u001b[0m\u001b[0;34m\u001b[0m\u001b[0m\n",
      "\u001b[0;32m~/projects/6552-murmac/6552-env/lib/python3.6/site-packages/pandas/io/parsers.py\u001b[0m in \u001b[0;36m__init__\u001b[0;34m(self, src, **kwds)\u001b[0m\n\u001b[1;32m   2008\u001b[0m         \u001b[0mkwds\u001b[0m\u001b[0;34m[\u001b[0m\u001b[0;34m\"usecols\"\u001b[0m\u001b[0;34m]\u001b[0m \u001b[0;34m=\u001b[0m \u001b[0mself\u001b[0m\u001b[0;34m.\u001b[0m\u001b[0musecols\u001b[0m\u001b[0;34m\u001b[0m\u001b[0;34m\u001b[0m\u001b[0m\n\u001b[1;32m   2009\u001b[0m \u001b[0;34m\u001b[0m\u001b[0m\n\u001b[0;32m-> 2010\u001b[0;31m         \u001b[0mself\u001b[0m\u001b[0;34m.\u001b[0m\u001b[0m_reader\u001b[0m \u001b[0;34m=\u001b[0m \u001b[0mparsers\u001b[0m\u001b[0;34m.\u001b[0m\u001b[0mTextReader\u001b[0m\u001b[0;34m(\u001b[0m\u001b[0msrc\u001b[0m\u001b[0;34m,\u001b[0m \u001b[0;34m**\u001b[0m\u001b[0mkwds\u001b[0m\u001b[0;34m)\u001b[0m\u001b[0;34m\u001b[0m\u001b[0;34m\u001b[0m\u001b[0m\n\u001b[0m\u001b[1;32m   2011\u001b[0m         \u001b[0mself\u001b[0m\u001b[0;34m.\u001b[0m\u001b[0munnamed_cols\u001b[0m \u001b[0;34m=\u001b[0m \u001b[0mself\u001b[0m\u001b[0;34m.\u001b[0m\u001b[0m_reader\u001b[0m\u001b[0;34m.\u001b[0m\u001b[0munnamed_cols\u001b[0m\u001b[0;34m\u001b[0m\u001b[0;34m\u001b[0m\u001b[0m\n\u001b[1;32m   2012\u001b[0m \u001b[0;34m\u001b[0m\u001b[0m\n",
      "\u001b[0;32mpandas/_libs/parsers.pyx\u001b[0m in \u001b[0;36mpandas._libs.parsers.TextReader.__cinit__\u001b[0;34m()\u001b[0m\n",
      "\u001b[0;32mpandas/_libs/parsers.pyx\u001b[0m in \u001b[0;36mpandas._libs.parsers.TextReader._setup_parser_source\u001b[0;34m()\u001b[0m\n",
      "\u001b[0;31mFileNotFoundError\u001b[0m: [Errno 2] No such file or directory: '../data/sampleinfo.csv'"
     ]
    }
   ],
   "source": [
    "sample_info_file = data_dir + 'sampleinfo.csv'\n",
    "sample_info = pd.read_csv(sample_info_file, sep=',', header=0, index_col=False)\n",
    "sample_info.head()"
   ]
  },
  {
   "cell_type": "code",
   "execution_count": null,
   "metadata": {},
   "outputs": [],
   "source": [
    "sample_info[['sortdate', 'cell_identity']].apply(pd.value_counts)"
   ]
  },
  {
   "cell_type": "code",
   "execution_count": null,
   "metadata": {},
   "outputs": [],
   "source": [
    "sample_info.shape"
   ]
  },
  {
   "cell_type": "markdown",
   "metadata": {},
   "source": [
    "### Add GFP and tdtomato"
   ]
  },
  {
   "cell_type": "code",
   "execution_count": null,
   "metadata": {},
   "outputs": [],
   "source": [
    "sample_info['GFP'] = [x.split('_')[-1] for x in sample_info['cell_identity']]\n",
    "tdtomato = []\n",
    "for x in sample_info['cell_identity']:\n",
    "    arr = x.split('_')\n",
    "    if len(arr) >1:\n",
    "        tdtomato.append(arr[2])\n",
    "    else:\n",
    "        tdtomato.append('blank')\n",
    "\n",
    "sample_info['tdtomato'] = tdtomato"
   ]
  },
  {
   "cell_type": "code",
   "execution_count": null,
   "metadata": {},
   "outputs": [],
   "source": [
    "sample_info.tail()"
   ]
  },
  {
   "cell_type": "markdown",
   "metadata": {},
   "source": [
    "## Mapping stats - STAR\n",
    "\n",
    "`count_table.sh` was used to parse `*_Log.final.out` and `*_ReadsPerGene.out.tab` to get `year, plate, well, n_reads, n_mapped_reads, p_mapped_reads, n_reads_in_features, p_reads_in_features, n_multi_mapped_reads, p_multi_mapped_reads, n_short_unmapped_reads, p_short_unmapped_reads, p_other`. Combined with `2019_2020_sampleinfo_276\\ and\\ 278_31\\ and\\ 33.csv` provided by Kristel. We have a complete table about the information of each cell, and its mapping info"
   ]
  },
  {
   "cell_type": "markdown",
   "metadata": {},
   "source": [
    "### `fastqc` to check read quality\n",
    "\n",
    "`fastqc` reveals that the reads are of good per base quality. Most of them have around 20% duplicated reads, and there is some overrepresented sequences. And there is no sign of adapter sequence.\n",
    "Since I don't find any recommendation in trimming the reads before mapping rna-seq reads, I'll go ahead map the reads to mouse genome without trimming"
   ]
  },
  {
   "cell_type": "markdown",
   "metadata": {},
   "source": [
    "### Re-mapping with `STAR`\n",
    "\n",
    "`STAR` v2.7.7a is used for remapping. \n",
    "\n",
    "Reference genome and annotation were downloaded from https://www.gencodegenes.org/mouse/release_M25.html\n",
    "\n",
    "Nucleotide sequence of the GRCm38 primary genome assembly (chromosomes and scaffolds) `GRCm38.primary_assembly.genome.fa`\n",
    "Comprehensive gene annotation on the primary assembly (chromosomes and scaffolds) sequence regions `gencode.vM25.primary_assembly.annotation.gtf`"
   ]
  },
  {
   "cell_type": "markdown",
   "metadata": {},
   "source": [
    "### Read in mapping stats - STAR"
   ]
  },
  {
   "cell_type": "code",
   "execution_count": null,
   "metadata": {},
   "outputs": [],
   "source": [
    "mapping_stats_file = data_dir + 'mapping_stats.txt'\n",
    "mapping_stats = pd.read_csv(mapping_stats_file, sep='\\t', header=0, index_col=False)\n",
    "mapping_stats.head()"
   ]
  },
  {
   "cell_type": "code",
   "execution_count": null,
   "metadata": {
    "scrolled": true
   },
   "outputs": [],
   "source": [
    "stats = pd.merge(mapping_stats, sample_info, how='left', left_on=['plate', 'well'], right_on=['plate_id', 'rownames'])\n",
    "cell_stats = stats.drop(['plate_id', 'rownames'], axis=1)\n",
    "cell_stats = cell_stats.set_index('prefix')\n",
    "cell_stats.head()"
   ]
  },
  {
   "cell_type": "markdown",
   "metadata": {},
   "source": [
    "### mapping distribution\n",
    "Plot total number of reads mapped from each cell, separated as uniquely mapped, multi-mapped and unmapped. There are some with very low mappings, are those negative controls?"
   ]
  },
  {
   "cell_type": "code",
   "execution_count": null,
   "metadata": {},
   "outputs": [],
   "source": [
    "plt.rcParams[\"figure.figsize\"] = [16,9]\n",
    "sorted_cells = cell_stats[['n_mapped_reads', 'n_multi_mapped_reads', 'n_short_unmapped_reads']].\\\n",
    "               sort_values(by='n_mapped_reads', ascending=True).reset_index(drop=True)\n",
    "sorted_cells.plot(kind='bar', stacked=True)\n",
    "frame1 = plt.gca()\n",
    "frame1.axes.xaxis.set_ticks([])\n",
    "frame1.axes.xaxis.set_ticklabels([])\n",
    "plt.xlabel('Cell')\n",
    "plt.ylabel('Read count')\n",
    "plt.show()"
   ]
  },
  {
   "cell_type": "markdown",
   "metadata": {},
   "source": [
    "### Handle negative controls "
   ]
  },
  {
   "cell_type": "code",
   "execution_count": null,
   "metadata": {},
   "outputs": [],
   "source": [
    "cell_stats.loc[cell_stats['marker'] == 'blank'][['cell_identity', 'ischemia', 'marker', 'sex']]"
   ]
  },
  {
   "cell_type": "code",
   "execution_count": null,
   "metadata": {},
   "outputs": [],
   "source": [
    "# Correct ischemia and sex for SS2_19_276_P23 and SS2_19_276_P24\n",
    "cell_stats.loc[cell_stats.index.isin(['SS2_19_276_P23', 'SS2_19_276_P24']), ['ischemia', 'sex']] = 'blank'"
   ]
  },
  {
   "cell_type": "code",
   "execution_count": null,
   "metadata": {},
   "outputs": [],
   "source": [
    "cell_stats.loc[cell_stats['marker'] == 'blank'][['cell_identity', 'ischemia', 'marker', 'sex']].head()"
   ]
  },
  {
   "cell_type": "markdown",
   "metadata": {},
   "source": [
    "## Build adata\n",
    "\n",
    "Create an anndata.AnnData object, which stores the count matrix in `X`, gene information in `var` and cell information in `obs`. "
   ]
  },
  {
   "cell_type": "markdown",
   "metadata": {},
   "source": [
    "### X matrix from counts"
   ]
  },
  {
   "cell_type": "markdown",
   "metadata": {},
   "source": [
    "Counts were generated with `featureCounts`"
   ]
  },
  {
   "cell_type": "code",
   "execution_count": null,
   "metadata": {},
   "outputs": [],
   "source": [
    "counts_file = data_dir + 'counts.txt'"
   ]
  },
  {
   "cell_type": "code",
   "execution_count": null,
   "metadata": {},
   "outputs": [],
   "source": [
    "adata = sc.read_csv(counts_file, delimiter=None, first_column_names=True)\n",
    "adata = adata.transpose()\n",
    "adata"
   ]
  },
  {
   "cell_type": "markdown",
   "metadata": {},
   "source": [
    "### Build var table\n",
    "\n",
    "var is a data frame that stores gene level information. Often indexed with gene_name"
   ]
  },
  {
   "cell_type": "markdown",
   "metadata": {},
   "source": [
    "gtf file has 55487 gene"
   ]
  },
  {
   "cell_type": "code",
   "execution_count": null,
   "metadata": {},
   "outputs": [],
   "source": [
    "gtf_file = data_dir + 'gencode.vM25.primary_assembly.annotation.gtf'\n",
    "genes = pr.read_gtf(gtf_file, as_df = True)\n",
    "#genes = genes.df\n",
    "genes.head()"
   ]
  },
  {
   "cell_type": "code",
   "execution_count": null,
   "metadata": {},
   "outputs": [],
   "source": [
    "genes = genes[genes['Feature'] == 'gene']"
   ]
  },
  {
   "cell_type": "code",
   "execution_count": null,
   "metadata": {},
   "outputs": [],
   "source": [
    "genes.columns"
   ]
  },
  {
   "cell_type": "code",
   "execution_count": null,
   "metadata": {},
   "outputs": [],
   "source": [
    "genes = genes[['Chromosome', 'Source', 'gene_id', 'gene_name']].set_index('gene_name')"
   ]
  },
  {
   "cell_type": "code",
   "execution_count": null,
   "metadata": {},
   "outputs": [],
   "source": [
    "adata.var = genes"
   ]
  },
  {
   "cell_type": "code",
   "execution_count": null,
   "metadata": {},
   "outputs": [],
   "source": [
    "adata.var_names_make_unique()"
   ]
  },
  {
   "cell_type": "code",
   "execution_count": null,
   "metadata": {},
   "outputs": [],
   "source": [
    "adata"
   ]
  },
  {
   "cell_type": "code",
   "execution_count": null,
   "metadata": {},
   "outputs": [],
   "source": [
    "sc.pl.highest_expr_genes(adata, n_top=20, )"
   ]
  },
  {
   "cell_type": "markdown",
   "metadata": {},
   "source": [
    "### Obs table \n",
    "\n",
    "obs is a data frame stores cells meta data."
   ]
  },
  {
   "cell_type": "code",
   "execution_count": null,
   "metadata": {},
   "outputs": [],
   "source": [
    "adata.obs = cell_stats"
   ]
  },
  {
   "cell_type": "code",
   "execution_count": null,
   "metadata": {},
   "outputs": [],
   "source": [
    "adata.obs.columns"
   ]
  },
  {
   "cell_type": "code",
   "execution_count": null,
   "metadata": {},
   "outputs": [],
   "source": [
    "adata.obs['cell_identity'].value_counts()"
   ]
  },
  {
   "cell_type": "markdown",
   "metadata": {},
   "source": [
    "## QC\n",
    "\n",
    "Quality metrics including the percentage of mitocondrial and ribosomal genes per cell. High proportions are indicative of poor-quality cells (Islam et al. 2014; Ilicic et al. 2016), possibly because of loss of cytoplasmic RNA from perforated cells. The reasoning is that mitochondria are larger than individual transcript molecules and less likely to escape through tears in the cell membrane.\n"
   ]
  },
  {
   "cell_type": "markdown",
   "metadata": {},
   "source": [
    "### Calculate QC metrics"
   ]
  },
  {
   "cell_type": "code",
   "execution_count": null,
   "metadata": {},
   "outputs": [],
   "source": [
    "# mitochondrial genes\n",
    "adata.var['mt'] = adata.var_names.str.startswith('mt-') \n",
    "# ribosomal genes\n",
    "adata.var['ribo'] = adata.var_names.str.startswith(('Mrps','Mrpl'))\n",
    "# hemoglobin genes.\n",
    "adata.var['hb'] = adata.var_names.str.startswith((\"Hba\"))\n",
    "\n",
    "adata.var"
   ]
  },
  {
   "cell_type": "code",
   "execution_count": null,
   "metadata": {},
   "outputs": [],
   "source": [
    "sc.pp.calculate_qc_metrics(adata, qc_vars=['mt','ribo','hb'], percent_top=None, log1p=False, inplace=True)"
   ]
  },
  {
   "cell_type": "code",
   "execution_count": null,
   "metadata": {},
   "outputs": [],
   "source": [
    "adata"
   ]
  },
  {
   "cell_type": "code",
   "execution_count": null,
   "metadata": {},
   "outputs": [],
   "source": [
    "adata.var.head()"
   ]
  },
  {
   "cell_type": "markdown",
   "metadata": {},
   "source": [
    "### Save & read data "
   ]
  },
  {
   "cell_type": "code",
   "execution_count": null,
   "metadata": {},
   "outputs": [],
   "source": [
    "adata.layers['raw'] = adata.X\n",
    "adata.obsm['raw'] = adata.X"
   ]
  },
  {
   "cell_type": "code",
   "execution_count": null,
   "metadata": {},
   "outputs": [],
   "source": [
    "adata.write_h5ad(h5ad_dir + 'adata.raw.h5ad')"
   ]
  },
  {
   "cell_type": "code",
   "execution_count": null,
   "metadata": {},
   "outputs": [],
   "source": [
    "adata = sc.read_h5ad(h5ad_dir + 'adata.raw.h5ad')"
   ]
  },
  {
   "cell_type": "markdown",
   "metadata": {},
   "source": [
    "### Plot QC\n",
    "\n",
    "Look at gene counts, total counts, MT percentage, ribosomal protein percentage and hemoglobin percentage, grouped by cell identity, batch, sex. \n",
    "Besides the empty well (negative controls), there are a few other cells that are sequenced at low coverage, might also be empty. Those should be filtered. High MT is only present at a few cells, while majority of them have MT percent belo 10%, and that would also be one of the cutoff.\n",
    "The batch sequenced in 2020 seems to have slightly higher depth, and slightly higher MT percent, indicating batch effect, would try integration to remove batch effort later.\n",
    "\n",
    "Percent ribosomal protein is very low. Normally it's one of the mostly expressed genes, so is it a smartseq2 feature or is it an indication of low cell quality? "
   ]
  },
  {
   "cell_type": "code",
   "execution_count": null,
   "metadata": {},
   "outputs": [],
   "source": [
    "sc.settings.set_figure_params(dpi=80)"
   ]
  },
  {
   "cell_type": "code",
   "execution_count": null,
   "metadata": {},
   "outputs": [],
   "source": [
    "sc.pl.violin(adata, ['n_genes_by_counts', 'total_counts', 'pct_counts_mt','pct_counts_ribo', 'pct_counts_hb'],\n",
    "             jitter=0.4, groupby = 'cell_identity', rotation= 45)"
   ]
  },
  {
   "cell_type": "code",
   "execution_count": null,
   "metadata": {},
   "outputs": [],
   "source": [
    "sc.pl.violin(adata, ['n_genes_by_counts', 'total_counts', 'pct_counts_mt','pct_counts_ribo', 'pct_counts_hb'],\n",
    "             jitter=0.4, groupby = 'sex', rotation= 45)"
   ]
  },
  {
   "cell_type": "code",
   "execution_count": null,
   "metadata": {},
   "outputs": [],
   "source": [
    "sc.pl.violin(adata, ['n_genes_by_counts', 'total_counts', 'pct_counts_mt','pct_counts_ribo', 'pct_counts_hb'],\n",
    "             jitter=0.4, groupby = 'sortdate', rotation= 45)"
   ]
  },
  {
   "cell_type": "markdown",
   "metadata": {},
   "source": [
    "Empty cells clustered at the low left corner, and the cells close to them should also be filtered"
   ]
  },
  {
   "cell_type": "code",
   "execution_count": null,
   "metadata": {},
   "outputs": [],
   "source": [
    "sc.pl.scatter(adata, x='total_counts', y='pct_counts_mt', color=\"cell_identity\")"
   ]
  },
  {
   "cell_type": "code",
   "execution_count": null,
   "metadata": {},
   "outputs": [],
   "source": [
    "sc.pl.scatter(adata, x='n_genes_by_counts', y='total_counts', color=\"cell_identity\")"
   ]
  },
  {
   "cell_type": "markdown",
   "metadata": {},
   "source": [
    "### Filtering\n",
    "\n",
    "A standard approach is to filter cells with low amount of reads as well as genes that are present in at least a certain amount of cells. This will also filter those empty wells. Here we will only consider cells with at least 500 detected genes and genes need to be expressed in at least 3 cells. Please note that those values are highly dependent on the library preparation method used."
   ]
  },
  {
   "cell_type": "code",
   "execution_count": null,
   "metadata": {},
   "outputs": [],
   "source": [
    "adata.obs[adata.obs.sex == 'blank']"
   ]
  },
  {
   "cell_type": "code",
   "execution_count": null,
   "metadata": {},
   "outputs": [],
   "source": [
    "sc.pp.filter_cells(adata, min_genes=500)\n",
    "sc.pp.filter_genes(adata, min_cells=3)\n",
    "\n",
    "print(adata.n_obs, adata.n_vars)"
   ]
  },
  {
   "cell_type": "code",
   "execution_count": null,
   "metadata": {},
   "outputs": [],
   "source": [
    "sc.pl.highest_expr_genes(adata, n_top=20)"
   ]
  },
  {
   "cell_type": "markdown",
   "metadata": {},
   "source": [
    "It's quite normal to see malat1 and mitochondrial genes in the top expressed list."
   ]
  },
  {
   "cell_type": "markdown",
   "metadata": {},
   "source": [
    "#### Filter Mito \n",
    "\n",
    "Ther is not so much ribosomal proteins or hemoglobins in the data, but there are some cells with high percentage of mitochondrial reads, that could be filtered ou. Since majority of them have mt <10%, will just set the cutoff so."
   ]
  },
  {
   "cell_type": "code",
   "execution_count": null,
   "metadata": {},
   "outputs": [],
   "source": [
    "print(\"cells %d\"%adata.n_obs)\n",
    "adata = adata[adata.obs['pct_counts_mt'] < 10, :]\n",
    "print(\"Remaining cells %d\"%adata.n_obs)"
   ]
  },
  {
   "cell_type": "markdown",
   "metadata": {},
   "source": [
    "#### Filter malat1 and mt genes\n",
    "\n",
    "As the level of expression of mitochondrial and MALAT1 genes are judged as mainly technical, it can be wise to remove them from the dataset bofore any further analysis."
   ]
  },
  {
   "cell_type": "code",
   "execution_count": null,
   "metadata": {},
   "outputs": [],
   "source": [
    "print(adata.n_obs, adata.n_vars)\n",
    "malat1 = adata.var_names.str.startswith('malat1')\n",
    "mito_genes = adata.var_names.str.startswith('mt-')\n",
    "\n",
    "remove = np.add(mito_genes, malat1)\n",
    "keep = np.invert(remove)\n",
    "\n",
    "adata = adata[:,keep]\n",
    "\n",
    "print(adata.n_obs, adata.n_vars)"
   ]
  },
  {
   "cell_type": "code",
   "execution_count": null,
   "metadata": {},
   "outputs": [],
   "source": [
    "raw = adata.layers['raw']"
   ]
  },
  {
   "cell_type": "markdown",
   "metadata": {},
   "source": [
    "### Plot Filtered QC"
   ]
  },
  {
   "cell_type": "code",
   "execution_count": null,
   "metadata": {},
   "outputs": [],
   "source": [
    "sc.pl.violin(adata, ['n_genes_by_counts', 'total_counts', 'pct_counts_mt','pct_counts_ribo', 'pct_counts_hb'],\n",
    "             jitter=0.4, groupby = 'cell_identity', rotation= 45)"
   ]
  },
  {
   "cell_type": "markdown",
   "metadata": {},
   "source": [
    "### Sample sex\n",
    "\n",
    "By looking at reads from chromosome Y and XIST (X-inactive specific transcript) expression, it's quite easy to determine per sample which sex it is. It can be a good way to detect id there has been any sample mixup, to see if the sample metadata sex agree with the computational predictions.\n",
    "\n",
    "It seems that all the ones marked as female are probably female, but not all the ones marked male are real male mice. "
   ]
  },
  {
   "cell_type": "code",
   "execution_count": null,
   "metadata": {},
   "outputs": [],
   "source": [
    "chrY_genes = adata.var_names[adata.var.Chromosome == 'chrY']\n",
    "chrY_genes"
   ]
  },
  {
   "cell_type": "code",
   "execution_count": null,
   "metadata": {},
   "outputs": [],
   "source": [
    "adata.obs['percent_chrY'] = np.sum(adata[:, chrY_genes].X, axis=1) / np.sum(adata.X, axis=1) * 100"
   ]
  },
  {
   "cell_type": "code",
   "execution_count": null,
   "metadata": {},
   "outputs": [],
   "source": [
    "adata.obs['XIST-counts'] = adata.X[:, adata.var_names.str.match('Xist')]"
   ]
  },
  {
   "cell_type": "code",
   "execution_count": null,
   "metadata": {},
   "outputs": [],
   "source": [
    "sc.pl.scatter(adata, x='XIST-counts', y='percent_chrY')"
   ]
  },
  {
   "cell_type": "code",
   "execution_count": null,
   "metadata": {},
   "outputs": [],
   "source": [
    "sc.pl.violin(adata, ['XIST-counts', 'percent_chrY'], jitter=0.4, groupby='sex', rotation=45)"
   ]
  },
  {
   "cell_type": "markdown",
   "metadata": {},
   "source": [
    "#### Makred male, but potentially female"
   ]
  },
  {
   "cell_type": "code",
   "execution_count": null,
   "metadata": {},
   "outputs": [],
   "source": [
    "fig, axes = plt.subplots(nrows=1, ncols=2, figsize=(10,4))\n",
    "ax = sns.histplot(adata.obs[(adata.obs['XIST-counts'] > 0) & (adata.obs['sex'] == 'male')]['XIST-counts'], \n",
    "                  label='male with XIST-counts >0', bins = 100, ax=axes[0])\n",
    "ax.legend()\n",
    "ax = sns.histplot(adata.obs[(adata.obs['XIST-counts'] > 0) & (adata.obs['sex'] == 'female')]['XIST-counts'], \n",
    "                  label='female with XIST-counts >0', bins = 100, ax=axes[1])\n",
    "ax.legend()"
   ]
  },
  {
   "cell_type": "code",
   "execution_count": null,
   "metadata": {},
   "outputs": [],
   "source": [
    "x = adata.obs[(adata.obs['XIST-counts'] > 5) & (adata.obs['sex'] == 'male')]\n",
    "sns.relplot(x='XIST-counts', y='percent_chrY', data=x);"
   ]
  },
  {
   "cell_type": "code",
   "execution_count": null,
   "metadata": {},
   "outputs": [],
   "source": [
    "adata.obs[(adata.obs['XIST-counts'] > 10) & (adata.obs['sex'] == 'male')][['year', 'plate', 'well', 'XIST-counts', 'percent_chrY', \n",
    "                                                                           'sex', 'cell_identity', 'PDGFRB_MFI']]"
   ]
  },
  {
   "cell_type": "code",
   "execution_count": null,
   "metadata": {},
   "outputs": [],
   "source": [
    "adata.obs['contamination'] = 0\n",
    "adata.obs.loc[(adata.obs['XIST-counts'] > 10) & (adata.obs['sex'] == 'male'), 'contamination'] = 1"
   ]
  },
  {
   "cell_type": "code",
   "execution_count": null,
   "metadata": {},
   "outputs": [],
   "source": [
    "# Change sex of plate 278 to female\n",
    "#adata.obs.loc[adata.obs['plate'] == 278, 'sex'] = 'female'"
   ]
  },
  {
   "cell_type": "code",
   "execution_count": null,
   "metadata": {},
   "outputs": [],
   "source": [
    "x = adata.obs[(adata.obs['percent_chrY'] > 0.01) & (adata.obs['sex'] == 'female')]\n",
    "sns.relplot(x='XIST-counts', y='percent_chrY', data=x);"
   ]
  },
  {
   "cell_type": "markdown",
   "metadata": {},
   "source": [
    "#### Marked female, but potentially male"
   ]
  },
  {
   "cell_type": "code",
   "execution_count": null,
   "metadata": {},
   "outputs": [],
   "source": [
    "adata.obs[(adata.obs['percent_chrY'] > 0.01) & (adata.obs['sex'] == 'female')][['year', 'plate', 'well', 'XIST-counts', 'percent_chrY', \n",
    "                                                                           'sex', 'cell_identity', 'PDGFRB_MFI']]"
   ]
  },
  {
   "cell_type": "code",
   "execution_count": null,
   "metadata": {},
   "outputs": [],
   "source": [
    "adata.obs.loc[(adata.obs['percent_chrY'] > 0.01) & (adata.obs['sex'] == 'female') & (adata.obs['XIST-counts'] == 0), 'contamination'] = 1"
   ]
  },
  {
   "cell_type": "code",
   "execution_count": null,
   "metadata": {},
   "outputs": [],
   "source": [
    "sum(adata.obs['contamination'])"
   ]
  },
  {
   "cell_type": "markdown",
   "metadata": {},
   "source": [
    "plate 278 is from one mice, and was marked as male, but apparently female according to the data. Fixed in the new meta data"
   ]
  },
  {
   "cell_type": "markdown",
   "metadata": {},
   "source": [
    "### Calculate cell-cycle scores\n",
    "\n",
    "The algorithm calculates the difference of mean expression of the given list and the mean expression of reference genes. To build the reference, the function randomly chooses a bunch of genes matching the distribution of the expression of the given list. Cell cycling scoring adds three slots in the data, a score for S phase, a score for G2M phase and the predicted cell cycle phase."
   ]
  },
  {
   "cell_type": "code",
   "execution_count": null,
   "metadata": {},
   "outputs": [],
   "source": [
    "cell_cycle_genes_file = data_dir + 'Macosko_cell_cycle_genes.txt'\n",
    "cell_cycle_genes_df = pd.read_table(cell_cycle_genes_file)\n",
    "cell_cycle_genes_df"
   ]
  },
  {
   "cell_type": "code",
   "execution_count": null,
   "metadata": {},
   "outputs": [],
   "source": [
    "#g1s_genes = cell_cycle_genes_df['IG1.S'].dropna().to_list()\n",
    "s_genes = [x.lower().capitalize() for x in cell_cycle_genes_df['S'].dropna().to_list()]\n",
    "g2m_genes = [x.lower().capitalize() for x in cell_cycle_genes_df['G2.M'].dropna().to_list()]\n",
    "#m_genes = cell_cycle_genes_df['M'].dropna().to_list()\n",
    "#mg1_genes = cell_cycle_genes_df['M.G1'].dropna().to_list()\n",
    "#cell_cycle_genes = g1s_genes + s_genes + g2m_genes + m_genes + mg1_genes\n",
    "cell_cycle_genes = s_genes + g2m_genes\n",
    "print(len(cell_cycle_genes))\n",
    "cell_cycle_genes1 = [x for x in cell_cycle_genes if x in adata.var_names]\n",
    "print(len(cell_cycle_genes1))"
   ]
  },
  {
   "cell_type": "markdown",
   "metadata": {},
   "source": [
    "Before running cell cycle we have to normalize the data. In scanpy object, the data slot will be overwriteen with the normalized data. So first, save the raw data into the slot `raw`."
   ]
  },
  {
   "cell_type": "code",
   "execution_count": null,
   "metadata": {},
   "outputs": [],
   "source": [
    "adata.raw = adata\n",
    "\n",
    "# Normalize to depth 400 000\n",
    "sc.pp.normalize_per_cell(adata, counts_per_cell_after=4e5)\n",
    "sc.pp.log1p(adata)\n",
    "sc.pp.scale(adata)"
   ]
  },
  {
   "cell_type": "code",
   "execution_count": null,
   "metadata": {},
   "outputs": [],
   "source": [
    "sc.tl.score_genes_cell_cycle(adata, s_genes=s_genes, g2m_genes=g2m_genes)"
   ]
  },
  {
   "cell_type": "code",
   "execution_count": null,
   "metadata": {},
   "outputs": [],
   "source": [
    "sc.pl.violin(adata, ['S_score', 'G2M_score'], jitter=0.4, groupby='cell_identity', rotation=45)"
   ]
  },
  {
   "cell_type": "markdown",
   "metadata": {},
   "source": [
    "It looks like majority cells are in G2M phase, with a few in S phase and a few in G1 phase"
   ]
  },
  {
   "cell_type": "code",
   "execution_count": null,
   "metadata": {},
   "outputs": [],
   "source": [
    "adata.obs.phase.value_counts()"
   ]
  },
  {
   "cell_type": "markdown",
   "metadata": {},
   "source": [
    "### Predicting doublets\n",
    "\n",
    "Doublets/Multiple of cells in the same well/droplet is a common issue in scRNAseq protocols. Especially in droplet-based method within overloading of cells.\n",
    "Since this was flow sorted and seqeunced in smartseq2, we expect low amount of doublets."
   ]
  },
  {
   "cell_type": "code",
   "execution_count": null,
   "metadata": {},
   "outputs": [],
   "source": [
    "import scrublet as scr\n",
    "scrub = scr.Scrublet(adata.raw.X)\n",
    "adata.obs['doublet_scores'], adata.obs['predicted_doublets'] = scrub.scrub_doublets()\n",
    "scrub.plot_histogram()\n",
    "\n",
    "sum(adata.obs['predicted_doublets'])\n"
   ]
  },
  {
   "cell_type": "code",
   "execution_count": null,
   "metadata": {},
   "outputs": [],
   "source": [
    "adata.obs[adata.obs['predicted_doublets'] == True][['year', 'plate', 'well', 'XIST-counts', 'percent_chrY', \n",
    "                                                    'sex', 'cell_identity', 'PDGFRB_MFI', 'contamination']]"
   ]
  },
  {
   "cell_type": "markdown",
   "metadata": {},
   "source": [
    "Many of the predicted doublets were also suspicous contamination based on sex information inconsistency. "
   ]
  },
  {
   "cell_type": "code",
   "execution_count": null,
   "metadata": {},
   "outputs": [],
   "source": [
    "adata.obs['doublet_info'] = adata.obs[\"predicted_doublets\"].astype(str)"
   ]
  },
  {
   "cell_type": "code",
   "execution_count": null,
   "metadata": {},
   "outputs": [],
   "source": [
    "sc.pl.violin(adata, ['n_genes_by_counts', 'total_counts'],\n",
    "             jitter=0.4, groupby = 'doublet_info', rotation=45)"
   ]
  },
  {
   "cell_type": "markdown",
   "metadata": {},
   "source": [
    "Now, let's run PCA and UMAP and plot doublet scores onto umap to check the doublet prediction."
   ]
  },
  {
   "cell_type": "code",
   "execution_count": null,
   "metadata": {},
   "outputs": [],
   "source": [
    "sc.pp.highly_variable_genes(adata, min_mean=0.0125, max_mean=3, min_disp=0.5)\n",
    "adata = adata[:, adata.var.highly_variable]\n",
    "sc.pp.regress_out(adata, ['total_counts', 'pct_counts_mt'])\n",
    "sc.pp.scale(adata, max_value=10)\n",
    "sc.tl.pca(adata, svd_solver='arpack')\n",
    "sc.pp.neighbors(adata, n_neighbors=10, n_pcs=40)\n",
    "sc.tl.umap(adata)"
   ]
  },
  {
   "cell_type": "code",
   "execution_count": null,
   "metadata": {},
   "outputs": [],
   "source": [
    "sc.pl.umap(adata, color=['doublet_scores','doublet_info','cell_identity'])"
   ]
  },
  {
   "cell_type": "markdown",
   "metadata": {},
   "source": [
    "Now, we'll remove all predicted doublets from the data."
   ]
  },
  {
   "cell_type": "code",
   "execution_count": null,
   "metadata": {},
   "outputs": [],
   "source": [
    "# Revert back to the raw counts as the main matrix in the adata\n",
    "adata = adata.raw.to_adata()\n",
    "adata.layers['raw'] = raw\n",
    "\n",
    "adata = adata[adata.obs['doublet_info'] == 'False',:]\n",
    "print(adata.shape)"
   ]
  },
  {
   "cell_type": "markdown",
   "metadata": {},
   "source": [
    "### Save & read data"
   ]
  },
  {
   "cell_type": "code",
   "execution_count": null,
   "metadata": {},
   "outputs": [],
   "source": [
    "adata.obsm['raw'] = adata.X"
   ]
  },
  {
   "cell_type": "code",
   "execution_count": null,
   "metadata": {},
   "outputs": [],
   "source": [
    "adata.write_h5ad(h5ad_dir + 'adata.filtered.h5ad')"
   ]
  },
  {
   "cell_type": "code",
   "execution_count": null,
   "metadata": {},
   "outputs": [],
   "source": [
    "adata = sc.read_h5ad(h5ad_dir + 'adata.filtered.h5ad')"
   ]
  },
  {
   "cell_type": "markdown",
   "metadata": {},
   "source": [
    "## Normalization & Dimensionality reduction"
   ]
  },
  {
   "cell_type": "code",
   "execution_count": null,
   "metadata": {},
   "outputs": [],
   "source": [
    "# Normalize to depth 400 000\n",
    "sc.pp.normalize_per_cell(adata, counts_per_cell_after=4e5)\n",
    "sc.pp.log1p(adata)\n",
    "\n",
    "# Store normalized counts in the raw slot.\n",
    "# We will subset adata.X for variable genes, but want to keep all genes matrix as well.\n",
    "adata.raw = adata\n",
    "adata"
   ]
  },
  {
   "cell_type": "markdown",
   "metadata": {},
   "source": [
    "### Variable genes\n",
    "\n",
    "We need to define which features/genes are important in our dataset to distinguish cell types. For this, we need to find genes that are highly variable across cells, which in turn will also provide a good separation of the cell clusters."
   ]
  },
  {
   "cell_type": "code",
   "execution_count": null,
   "metadata": {},
   "outputs": [],
   "source": [
    "# Compute variable genes\n",
    "#sc.pp.highly_variable_genes(adata, min_mean=0.1, max_mean=6, min_disp=0.5)\n",
    "sc.pp.highly_variable_genes(adata, flavor='cell_ranger')\n",
    "print('Highly variable genes: %d' %sum(adata.var.highly_variable))\n",
    "\n",
    "# plot variable genes\n",
    "sc.pl.highly_variable_genes(adata)\n",
    "\n",
    "# subset for variable genes in the dataset"
   ]
  },
  {
   "cell_type": "code",
   "execution_count": null,
   "metadata": {},
   "outputs": [],
   "source": [
    "adata = adata[:, adata.var['highly_variable']]"
   ]
  },
  {
   "cell_type": "markdown",
   "metadata": {},
   "source": [
    "### Z-score transformation\n",
    "\n",
    "Since each gene has a different expression level, it means that genes with higher expression values will naturally have higher variation that will be capured by PCA. This means that we need to somehow give each gene a similar weight when performing PCA. The common practice is to center and scale each gene before performing PCA. This exact scaling is called Z-score normalization. It is very useful for PCA, clustering and plotting heatmaps.\n",
    "\n",
    "Additionally, we can use regression to remove any unwanted sources of variation from the dataset, such as `cell cycle`, `sequencing depth`, `percent mitochondria`. This is achieved by doing a generalized linear regression using these parameters as covariates in the model. Then the residuals of the model are taken as the 'regressed data'. Although pherphas not in the best way, batch effect regression can also be done here."
   ]
  },
  {
   "cell_type": "code",
   "execution_count": null,
   "metadata": {},
   "outputs": [],
   "source": [
    "# regress out unwanted variables\n",
    "sc.pp.regress_out(adata, ['total_counts', 'pct_counts_mt'])"
   ]
  },
  {
   "cell_type": "code",
   "execution_count": null,
   "metadata": {},
   "outputs": [],
   "source": [
    "# scale data, clip values exceeding sd 10.\n",
    "sc.pp.scale(adata, max_value=10)"
   ]
  },
  {
   "cell_type": "markdown",
   "metadata": {},
   "source": [
    "### PCA\n",
    "\n",
    "PCA is used to denoise the data"
   ]
  },
  {
   "cell_type": "code",
   "execution_count": null,
   "metadata": {},
   "outputs": [],
   "source": [
    "sc.tl.pca(adata, svd_solver='arpack', n_comps=50)\n",
    "sc.pl.pca_variance_ratio(adata, log=True, n_pcs=50)"
   ]
  },
  {
   "cell_type": "markdown",
   "metadata": {},
   "source": [
    "### UMAP\n",
    "\n",
    "UMAP is the gold standard in dimensionality reduction.\n",
    "The UMAP implemented in scanpy uses neighborhood graph as the distance matrix, so we need to first calculate the graph"
   ]
  },
  {
   "cell_type": "code",
   "execution_count": null,
   "metadata": {},
   "outputs": [],
   "source": [
    "sc.pp.neighbors(adata, n_pcs=40, n_neighbors=20)\n",
    "sc.tl.umap(adata)"
   ]
  },
  {
   "cell_type": "code",
   "execution_count": null,
   "metadata": {},
   "outputs": [],
   "source": [
    "sc.pl.umap(adata, color='cell_identity')"
   ]
  },
  {
   "cell_type": "markdown",
   "metadata": {},
   "source": [
    "## Integration"
   ]
  },
  {
   "cell_type": "markdown",
   "metadata": {},
   "source": [
    "### Detect variable genes\n",
    "\n",
    "Variable genes can be detected across the full dataset, but then we have the risk of having many batch-specific genes that will drive a lot of the variation. Or we can select variable genes from each batch separately to get only celltype variation. In the previous step, we've already selected variable genes, and are stored in "
   ]
  },
  {
   "cell_type": "code",
   "execution_count": null,
   "metadata": {},
   "outputs": [],
   "source": [
    "adata2 = adata.raw.to_adata()"
   ]
  },
  {
   "cell_type": "code",
   "execution_count": null,
   "metadata": {},
   "outputs": [],
   "source": [
    "var_genes_all = adata.var.highly_variable\n",
    "print('Highly variable genes: %d' %sum(var_genes_all))"
   ]
  },
  {
   "cell_type": "code",
   "execution_count": null,
   "metadata": {},
   "outputs": [],
   "source": [
    "sc.pp.highly_variable_genes(adata2, flavor='cell_ranger', batch_key='sortdate')\n",
    "print('Highly variable genes intersection: %d' %sum(adata2.var.highly_variable_intersection))\n",
    "print('Number of batches where gene is variable:')\n",
    "print(adata2.var.highly_variable_nbatches.value_counts())"
   ]
  },
  {
   "cell_type": "code",
   "execution_count": null,
   "metadata": {},
   "outputs": [],
   "source": [
    "var_genes_batch = adata2.var.highly_variable_nbatches >0 "
   ]
  },
  {
   "cell_type": "code",
   "execution_count": null,
   "metadata": {},
   "outputs": [],
   "source": [
    "print('Any batch var genes: %d' %sum(var_genes_batch))\n",
    "print('All data var genes: %d' %sum(var_genes_all))\n",
    "print('Overlap: %d' %sum(var_genes_batch & var_genes_all))\n",
    "print('Variable genes in all batches: %d' %sum(adata2.var.highly_variable_nbatches == 2))\n",
    "print('Overlap batch intersection and all: %d' %sum(var_genes_all & adata2.var.highly_variable_intersection))"
   ]
  },
  {
   "cell_type": "code",
   "execution_count": null,
   "metadata": {},
   "outputs": [],
   "source": [
    "var_select = adata2.var.highly_variable_nbatches >1\n",
    "var_genes = var_select.index[var_select]\n",
    "len(var_genes)"
   ]
  },
  {
   "cell_type": "code",
   "execution_count": null,
   "metadata": {},
   "outputs": [],
   "source": [
    "batches = adata.obs['sortdate'].cat.categories.tolist()\n",
    "alldata = {}\n",
    "for batch in batches:\n",
    "    alldata[batch] = adata2[adata2.obs['sortdate'] == batch, ]\n",
    "alldata"
   ]
  },
  {
   "cell_type": "markdown",
   "metadata": {},
   "source": [
    "### Scanorama"
   ]
  },
  {
   "cell_type": "code",
   "execution_count": null,
   "metadata": {},
   "outputs": [],
   "source": [
    "import scanorama\n",
    "\n",
    "# subset the individual dataset to the same variable genes as in MNN-correct\n",
    "alldata2 = dict()\n",
    "for ds in alldata.keys():\n",
    "    print(ds)\n",
    "    alldata2[ds] = alldata[ds][:, var_genes]\n",
    "    \n",
    "# convert to list of AnnData objects\n",
    "adatas = list(alldata2.values())\n",
    "\n",
    "# run scanorama.integrate\n",
    "scanorama.integrate_scanpy(adatas, dimred=50)"
   ]
  },
  {
   "cell_type": "code",
   "execution_count": null,
   "metadata": {},
   "outputs": [],
   "source": [
    "# Get all the integrated matrices\n",
    "scanorama_int = [ad.obsm['X_scanorama'] for ad in adatas]\n",
    "\n",
    "# Make into one matrix\n",
    "all_s = np.concatenate(scanorama_int)\n",
    "print(all_s.shape)\n",
    "\n",
    "# add to the AnnData object\n",
    "adata.obsm['Scanorama'] = all_s"
   ]
  },
  {
   "cell_type": "code",
   "execution_count": null,
   "metadata": {},
   "outputs": [],
   "source": [
    "sc.pp.neighbors(adata, n_pcs=50, use_rep='Scanorama')\n",
    "sc.tl.umap(adata)"
   ]
  },
  {
   "cell_type": "code",
   "execution_count": null,
   "metadata": {},
   "outputs": [],
   "source": [
    "sc.pl.umap(adata, color='sortdate', title='Scanorama UMAP')"
   ]
  },
  {
   "cell_type": "markdown",
   "metadata": {},
   "source": [
    "### Write & read data"
   ]
  },
  {
   "cell_type": "code",
   "execution_count": null,
   "metadata": {},
   "outputs": [],
   "source": [
    "adata.write_h5ad(h5ad_dir + 'adata.scanorama.h5ad')"
   ]
  },
  {
   "cell_type": "code",
   "execution_count": null,
   "metadata": {},
   "outputs": [],
   "source": [
    "adata = sc.read_h5ad(h5ad_dir + 'adata.scanorama.h5ad')"
   ]
  },
  {
   "cell_type": "markdown",
   "metadata": {},
   "source": [
    "## Clustering"
   ]
  },
  {
   "cell_type": "markdown",
   "metadata": {},
   "source": [
    "### Leiden"
   ]
  },
  {
   "cell_type": "code",
   "execution_count": null,
   "metadata": {},
   "outputs": [],
   "source": [
    "sc.tl.leiden(adata, key_added='leiden_1.0') # default resolution is 1.0\n",
    "sc.tl.leiden(adata, resolution=0.6, key_added='leiden_0.6')\n",
    "sc.tl.leiden(adata, resolution=0.4, key_added='leiden_0.4')\n",
    "sc.tl.leiden(adata, resolution=1.4, key_added='leiden_1.4')"
   ]
  },
  {
   "cell_type": "code",
   "execution_count": null,
   "metadata": {},
   "outputs": [],
   "source": [
    "sc.pl.umap(adata, color=['leiden_0.4', 'leiden_0.6', 'leiden_1.0', 'leiden_1.4'])"
   ]
  },
  {
   "cell_type": "markdown",
   "metadata": {},
   "source": [
    "### Louvain"
   ]
  },
  {
   "cell_type": "code",
   "execution_count": null,
   "metadata": {},
   "outputs": [],
   "source": [
    "sc.tl.louvain(adata, key_added='louvain_1.0')\n",
    "sc.tl.louvain(adata, resolution=0.6, key_added='louvain_0.6')\n",
    "sc.tl.louvain(adata, resolution=0.4, key_added='louvain_0.4')\n",
    "sc.tl.louvain(adata, resolution=1.4, key_added='louvain_1.4')"
   ]
  },
  {
   "cell_type": "code",
   "execution_count": null,
   "metadata": {},
   "outputs": [],
   "source": [
    "sc.pl.umap(adata, color=['louvain_0.4', 'louvain_0.6', 'louvain_1.0', 'louvain_1.4'])"
   ]
  },
  {
   "cell_type": "code",
   "execution_count": null,
   "metadata": {},
   "outputs": [],
   "source": [
    "sc.tl.leiden(adata, restrict_to=('leiden_0.4', ['6']), resolution=0.2, key_added='leiden_0.4_6_sub')\n",
    "sc.pl.umap(adata, color=['leiden_0.4_6_sub'])"
   ]
  },
  {
   "cell_type": "code",
   "execution_count": null,
   "metadata": {},
   "outputs": [],
   "source": [
    "sc.tl.leiden(adata, restrict_to=('leiden_0.4_6_sub', ['0']), resolution=0.3, key_added='leiden_0.4_6_0_sub')\n",
    "sc.pl.umap(adata, color=['leiden_0.4_6_0_sub'])"
   ]
  },
  {
   "cell_type": "markdown",
   "metadata": {},
   "source": [
    "## Cell type\n",
    "\n",
    "Cell type annotation from (Oprescu et al., 2020) was used as reference and R Seurat v3 ‘FindTransferAnchors’ and ‘TransferData’ methods were used applied for cell type prediction (Stuart et al., 2019). The marker genes used in the reference were further investigated to validate the predictions. Boundary cases where the cluster and prediction did not agree, cell types annotations were changed to follow the majority cells in the cluster. \n",
    "\n",
    "The details are not included, rather the final cell type assignment were loaded here."
   ]
  },
  {
   "cell_type": "code",
   "execution_count": null,
   "metadata": {},
   "outputs": [],
   "source": [
    "clusters_d = {'2': '3',\n",
    "              '0,0': '0',\n",
    "              '0,1': '1', \n",
    "              '6,0': '2',\n",
    "              '6,1': '4',\n",
    "              '4': '5',\n",
    "              '1': '6',\n",
    "              '5': '7',\n",
    "              '3': '8',\n",
    "              '7': '9'}\n",
    "adata.obs['cluster'] = [clusters_d[cl] for cl in adata.obs['leiden_0.4_6_0_sub']]"
   ]
  },
  {
   "cell_type": "code",
   "execution_count": null,
   "metadata": {},
   "outputs": [],
   "source": [
    "adata.uns['cluster_colors'] = np.array([   '#d62728', # 0 red\n",
    "                                           '#aa40fc', # 1\n",
    "                                           '#ff7f0e', # 2\n",
    "                                           '#1f77b4', # 3, blue\n",
    "                                           '#e377c2', # 4, pink\n",
    "                                           '#b5bd61', # 5, green\n",
    "                                           '#279e68', # 6, green\n",
    "                                           '#17becf', # 7, light blue\n",
    "                                           '#8c564b', # 8, brown\n",
    "                                           '#aec7e8', # 9, light blue purpleish\n",
    "                                           ])"
   ]
  },
  {
   "cell_type": "code",
   "execution_count": null,
   "metadata": {},
   "outputs": [],
   "source": [
    "clusters_ct_d = {'0': '0',\n",
    "              '1': '1', \n",
    "              '2': '2',\n",
    "              '3': 'APCs',\n",
    "              '4': 'T-cells',\n",
    "              '5': 'Tenocytes',\n",
    "              '6': 'FAPs',\n",
    "              '7': 'Endothelial cells',\n",
    "              '8': 'Mural cells',\n",
    "              '9': 'Monocytes'}\n",
    "adata.obs['cluster_ct'] = [clusters_ct_d[cl] for cl in adata.obs['cluster']]\n",
    "adata.obs['cluster_ct'] = adata.obs['cluster_ct'].astype('category').cat.\\\n",
    "    reorder_categories(['APCs', '0', '1', '2', 'Monocytes', 'T-cells', 'Tenocytes', \n",
    "                        'FAPs',  'Mural cells', 'Endothelial cells'])"
   ]
  },
  {
   "cell_type": "code",
   "execution_count": null,
   "metadata": {},
   "outputs": [],
   "source": [
    "adata.uns['cluster_ct_colors'] = np.array(['#1f77b4', # blue\n",
    "                                           '#d62728', # 0 red\n",
    "                                           '#aa40fc',\n",
    "                                           '#ff7f0e',\n",
    "                                           '#aec7e8', # light blue purpleish\n",
    "                                           '#e377c2', # 4, pink\n",
    "                                           '#b5bd61', # 5, green\n",
    "                                           '#279e68', # 6, green\n",
    "                                           '#8c564b', # brown\n",
    "                                           '#17becf', # 7, light blue\n",
    "                                           ])"
   ]
  },
  {
   "cell_type": "code",
   "execution_count": null,
   "metadata": {},
   "outputs": [],
   "source": [
    "adata.obs['cell_type'] = adata.obs['cluster_ct']\n",
    "adata.obs['cell_type'].replace({'2':'Macrophages', '0':'Macrophages', '1':'Macrophages'}, inplace=True)\n",
    "adata.obs['cell_type'] = adata.obs['cell_type'].astype('category').cat.\\\n",
    "    reorder_categories(['APCs', 'Macrophages', 'Monocytes', 'T-cells', 'Tenocytes', \n",
    "                        'FAPs',  'Mural cells', 'Endothelial cells'])"
   ]
  },
  {
   "cell_type": "code",
   "execution_count": null,
   "metadata": {},
   "outputs": [],
   "source": [
    "adata.uns['cell_type_colors'] = np.array(['#1f77b4', # blue\n",
    "                                          '#d62728', # 0 red\n",
    "                                          '#aec7e8', # light blue purpleish\n",
    "                                          '#e377c2', # 4, pink\n",
    "                                          '#b5bd61', # 5, green\n",
    "                                          '#279e68', # 6, green\n",
    "                                          '#8c564b', # brown\n",
    "                                          '#17becf', # 7, light blue\n",
    "                                          ])"
   ]
  },
  {
   "cell_type": "code",
   "execution_count": null,
   "metadata": {},
   "outputs": [],
   "source": [
    "adata.uns['ischemia_colors'] = np.array(['#D56B12', '#B4B4B4'])"
   ]
  },
  {
   "cell_type": "code",
   "execution_count": null,
   "metadata": {},
   "outputs": [],
   "source": [
    "adata.uns['tdtomato_colors'] = np.array(['#64BF73', '#E52320'])"
   ]
  },
  {
   "cell_type": "code",
   "execution_count": null,
   "metadata": {},
   "outputs": [],
   "source": [
    "sc.pl.umap(adata, color = ['cluster', 'cluster_ct', 'cell_type', 'ischemia', 'tdtomato'])"
   ]
  },
  {
   "cell_type": "markdown",
   "metadata": {},
   "source": [
    "### Save data"
   ]
  },
  {
   "cell_type": "code",
   "execution_count": null,
   "metadata": {},
   "outputs": [],
   "source": [
    "adata"
   ]
  },
  {
   "cell_type": "code",
   "execution_count": null,
   "metadata": {},
   "outputs": [],
   "source": [
    "adata.write_h5ad(h5ad_dir + 'adata.ct.h5ad')"
   ]
  },
  {
   "cell_type": "code",
   "execution_count": null,
   "metadata": {},
   "outputs": [],
   "source": []
  }
 ],
 "metadata": {
  "kernelspec": {
   "display_name": "Python 3",
   "language": "python",
   "name": "python3"
  },
  "language_info": {
   "codemirror_mode": {
    "name": "ipython",
    "version": 3
   },
   "file_extension": ".py",
   "mimetype": "text/x-python",
   "name": "python",
   "nbconvert_exporter": "python",
   "pygments_lexer": "ipython3",
   "version": "3.6.12"
  }
 },
 "nbformat": 4,
 "nbformat_minor": 4
}
